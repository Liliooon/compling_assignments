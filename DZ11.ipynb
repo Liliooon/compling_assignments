{
 "cells": [
  {
   "cell_type": "markdown",
   "id": "amended-liquid",
   "metadata": {},
   "source": [
    "1) На одной из задач сравните, что лучше: а) конкатенировать эмбединги в один большой эмбединг, б) усреднять эмбединги, в) складывать эмбединги. Зафиксируйте разбиение на train_test через random_seed, чтобы обучаться и оцениваться на одних и тех же данных. Параметры нейронок не нужно делать одинаковыми. Просто попробуйте добиться максимума от каждого из подходов."
   ]
  },
  {
   "cell_type": "code",
   "execution_count": 58,
   "id": "seasonal-algebra",
   "metadata": {
    "ExecuteTime": {
     "end_time": "2021-06-27T17:05:27.309411Z",
     "start_time": "2021-06-27T17:05:27.286277Z"
    }
   },
   "outputs": [],
   "source": [
    "import random\n",
    "import tensorflow as tf\n",
    "import pandas as pd\n",
    "import numpy as np\n",
    "import gensim\n",
    "from string import punctuation\n",
    "from sklearn.model_selection import train_test_split\n",
    "from sklearn.metrics import classification_report\n",
    "from collections import Counter\n",
    "import matplotlib.pyplot as plt\n",
    "%matplotlib inline"
   ]
  },
  {
   "cell_type": "code",
   "execution_count": 59,
   "id": "sporting-welcome",
   "metadata": {
    "ExecuteTime": {
     "end_time": "2021-06-27T17:05:29.269122Z",
     "start_time": "2021-06-27T17:05:27.770481Z"
    }
   },
   "outputs": [
    {
     "data": {
      "text/html": [
       "<div>\n",
       "<style scoped>\n",
       "    .dataframe tbody tr th:only-of-type {\n",
       "        vertical-align: middle;\n",
       "    }\n",
       "\n",
       "    .dataframe tbody tr th {\n",
       "        vertical-align: top;\n",
       "    }\n",
       "\n",
       "    .dataframe thead th {\n",
       "        text-align: right;\n",
       "    }\n",
       "</style>\n",
       "<table border=\"1\" class=\"dataframe\">\n",
       "  <thead>\n",
       "    <tr style=\"text-align: right;\">\n",
       "      <th></th>\n",
       "      <th>qid</th>\n",
       "      <th>question_text</th>\n",
       "      <th>target</th>\n",
       "    </tr>\n",
       "  </thead>\n",
       "  <tbody>\n",
       "    <tr>\n",
       "      <th>0</th>\n",
       "      <td>00002165364db923c7e6</td>\n",
       "      <td>How did Quebec nationalists see their province...</td>\n",
       "      <td>0</td>\n",
       "    </tr>\n",
       "    <tr>\n",
       "      <th>1</th>\n",
       "      <td>000032939017120e6e44</td>\n",
       "      <td>Do you have an adopted dog, how would you enco...</td>\n",
       "      <td>0</td>\n",
       "    </tr>\n",
       "    <tr>\n",
       "      <th>2</th>\n",
       "      <td>0000412ca6e4628ce2cf</td>\n",
       "      <td>Why does velocity affect time? Does velocity a...</td>\n",
       "      <td>0</td>\n",
       "    </tr>\n",
       "    <tr>\n",
       "      <th>3</th>\n",
       "      <td>000042bf85aa498cd78e</td>\n",
       "      <td>How did Otto von Guericke used the Magdeburg h...</td>\n",
       "      <td>0</td>\n",
       "    </tr>\n",
       "    <tr>\n",
       "      <th>4</th>\n",
       "      <td>0000455dfa3e01eae3af</td>\n",
       "      <td>Can I convert montra helicon D to a mountain b...</td>\n",
       "      <td>0</td>\n",
       "    </tr>\n",
       "    <tr>\n",
       "      <th>...</th>\n",
       "      <td>...</td>\n",
       "      <td>...</td>\n",
       "      <td>...</td>\n",
       "    </tr>\n",
       "    <tr>\n",
       "      <th>1306117</th>\n",
       "      <td>ffffcc4e2331aaf1e41e</td>\n",
       "      <td>What other technical skills do you need as a c...</td>\n",
       "      <td>0</td>\n",
       "    </tr>\n",
       "    <tr>\n",
       "      <th>1306118</th>\n",
       "      <td>ffffd431801e5a2f4861</td>\n",
       "      <td>Does MS in ECE have good job prospects in USA ...</td>\n",
       "      <td>0</td>\n",
       "    </tr>\n",
       "    <tr>\n",
       "      <th>1306119</th>\n",
       "      <td>ffffd48fb36b63db010c</td>\n",
       "      <td>Is foam insulation toxic?</td>\n",
       "      <td>0</td>\n",
       "    </tr>\n",
       "    <tr>\n",
       "      <th>1306120</th>\n",
       "      <td>ffffec519fa37cf60c78</td>\n",
       "      <td>How can one start a research project based on ...</td>\n",
       "      <td>0</td>\n",
       "    </tr>\n",
       "    <tr>\n",
       "      <th>1306121</th>\n",
       "      <td>ffffed09fedb5088744a</td>\n",
       "      <td>Who wins in a battle between a Wolverine and a...</td>\n",
       "      <td>0</td>\n",
       "    </tr>\n",
       "  </tbody>\n",
       "</table>\n",
       "<p>1306122 rows × 3 columns</p>\n",
       "</div>"
      ],
      "text/plain": [
       "                          qid  \\\n",
       "0        00002165364db923c7e6   \n",
       "1        000032939017120e6e44   \n",
       "2        0000412ca6e4628ce2cf   \n",
       "3        000042bf85aa498cd78e   \n",
       "4        0000455dfa3e01eae3af   \n",
       "...                       ...   \n",
       "1306117  ffffcc4e2331aaf1e41e   \n",
       "1306118  ffffd431801e5a2f4861   \n",
       "1306119  ffffd48fb36b63db010c   \n",
       "1306120  ffffec519fa37cf60c78   \n",
       "1306121  ffffed09fedb5088744a   \n",
       "\n",
       "                                             question_text  target  \n",
       "0        How did Quebec nationalists see their province...       0  \n",
       "1        Do you have an adopted dog, how would you enco...       0  \n",
       "2        Why does velocity affect time? Does velocity a...       0  \n",
       "3        How did Otto von Guericke used the Magdeburg h...       0  \n",
       "4        Can I convert montra helicon D to a mountain b...       0  \n",
       "...                                                    ...     ...  \n",
       "1306117  What other technical skills do you need as a c...       0  \n",
       "1306118  Does MS in ECE have good job prospects in USA ...       0  \n",
       "1306119                          Is foam insulation toxic?       0  \n",
       "1306120  How can one start a research project based on ...       0  \n",
       "1306121  Who wins in a battle between a Wolverine and a...       0  \n",
       "\n",
       "[1306122 rows x 3 columns]"
      ]
     },
     "execution_count": 59,
     "metadata": {},
     "output_type": "execute_result"
    }
   ],
   "source": [
    "quora = pd.read_csv('quora.csv')\n",
    "\n",
    "quora"
   ]
  },
  {
   "cell_type": "code",
   "execution_count": 61,
   "id": "imported-stability",
   "metadata": {
    "ExecuteTime": {
     "end_time": "2021-06-27T17:05:29.671998Z",
     "start_time": "2021-06-27T17:05:29.666392Z"
    }
   },
   "outputs": [],
   "source": [
    "def preprocess(text):\n",
    "    tokens = text.lower().split()\n",
    "    tokens = [token.strip(punctuation) for token in tokens]\n",
    "    return tokens"
   ]
  },
  {
   "cell_type": "code",
   "execution_count": 62,
   "id": "dangerous-patent",
   "metadata": {
    "ExecuteTime": {
     "end_time": "2021-06-27T17:05:33.925323Z",
     "start_time": "2021-06-27T17:05:30.302364Z"
    }
   },
   "outputs": [],
   "source": [
    "# словарь\n",
    "vocab = Counter()\n",
    "\n",
    "for text in quora.question_text:\n",
    "    vocab.update(preprocess(text))"
   ]
  },
  {
   "cell_type": "code",
   "execution_count": 63,
   "id": "acknowledged-adult",
   "metadata": {
    "ExecuteTime": {
     "end_time": "2021-06-27T17:05:33.927965Z",
     "start_time": "2021-06-27T17:05:33.926203Z"
    }
   },
   "outputs": [
    {
     "data": {
      "text/plain": [
       "273056"
      ]
     },
     "execution_count": 63,
     "metadata": {},
     "output_type": "execute_result"
    }
   ],
   "source": [
    "len(vocab)"
   ]
  },
  {
   "cell_type": "code",
   "execution_count": 64,
   "id": "decent-darkness",
   "metadata": {
    "ExecuteTime": {
     "end_time": "2021-06-27T17:05:33.963519Z",
     "start_time": "2021-06-27T17:05:33.929142Z"
    }
   },
   "outputs": [],
   "source": [
    "# отфильтрованный словарь\n",
    "filtered_vocab = set()\n",
    "\n",
    "for word in vocab:\n",
    "    if vocab[word] > 50:\n",
    "        filtered_vocab.add(word)"
   ]
  },
  {
   "cell_type": "code",
   "execution_count": 65,
   "id": "educated-dutch",
   "metadata": {
    "ExecuteTime": {
     "end_time": "2021-06-27T17:05:33.966156Z",
     "start_time": "2021-06-27T17:05:33.964375Z"
    }
   },
   "outputs": [
    {
     "data": {
      "text/plain": [
       "14083"
      ]
     },
     "execution_count": 65,
     "metadata": {},
     "output_type": "execute_result"
    }
   ],
   "source": [
    "len(filtered_vocab)"
   ]
  },
  {
   "cell_type": "code",
   "execution_count": 66,
   "id": "upper-private",
   "metadata": {
    "ExecuteTime": {
     "end_time": "2021-06-27T17:05:33.970704Z",
     "start_time": "2021-06-27T17:05:33.966940Z"
    }
   },
   "outputs": [],
   "source": [
    "# индексируем слова\n",
    "word2id = {'PAD':0}\n",
    "\n",
    "for word in filtered_vocab:\n",
    "    word2id[word] = len(word2id)"
   ]
  },
  {
   "cell_type": "code",
   "execution_count": 67,
   "id": "german-storm",
   "metadata": {
    "ExecuteTime": {
     "end_time": "2021-06-27T17:05:34.810214Z",
     "start_time": "2021-06-27T17:05:34.804183Z"
    }
   },
   "outputs": [],
   "source": [
    "id2word = {i:word for word, i in word2id.items()}"
   ]
  },
  {
   "cell_type": "code",
   "execution_count": null,
   "id": "statistical-pickup",
   "metadata": {
    "ExecuteTime": {
     "end_time": "2021-06-29T11:05:09.897782Z",
     "start_time": "2021-06-29T11:05:06.684429Z"
    },
    "scrolled": true
   },
   "outputs": [],
   "source": [
    "# переводим тексты в последовательности индексов\n",
    "X = []\n",
    "\n",
    "for text in quora.question_text:\n",
    "    tokens = preprocess(text)\n",
    "    ids = [word2id.get(token, 1) for token in tokens]\n",
    "    X.append(ids)"
   ]
  },
  {
   "cell_type": "code",
   "execution_count": 69,
   "id": "greek-aviation",
   "metadata": {
    "ExecuteTime": {
     "end_time": "2021-06-27T17:05:42.574028Z",
     "start_time": "2021-06-27T17:05:42.518289Z"
    }
   },
   "outputs": [
    {
     "data": {
      "text/plain": [
       "134"
      ]
     },
     "execution_count": 69,
     "metadata": {},
     "output_type": "execute_result"
    }
   ],
   "source": [
    "MAX_LEN = max(len(x) for x in X)\n",
    "\n",
    "MAX_LEN"
   ]
  },
  {
   "cell_type": "code",
   "execution_count": 70,
   "id": "painted-sample",
   "metadata": {
    "ExecuteTime": {
     "end_time": "2021-06-27T17:05:45.445506Z",
     "start_time": "2021-06-27T17:05:42.575257Z"
    }
   },
   "outputs": [
    {
     "data": {
      "text/plain": [
       "(1306122, 134)"
      ]
     },
     "execution_count": 70,
     "metadata": {},
     "output_type": "execute_result"
    }
   ],
   "source": [
    "# паддинг\n",
    "X = tf.keras.preprocessing.sequence.pad_sequences(X, maxlen=MAX_LEN)\n",
    "\n",
    "X.shape"
   ]
  },
  {
   "cell_type": "code",
   "execution_count": 71,
   "id": "satisfactory-stomach",
   "metadata": {
    "ExecuteTime": {
     "end_time": "2021-06-27T17:05:45.447841Z",
     "start_time": "2021-06-27T17:05:45.446395Z"
    }
   },
   "outputs": [],
   "source": [
    "random.seed(42)"
   ]
  },
  {
   "cell_type": "code",
   "execution_count": 72,
   "id": "mature-surfing",
   "metadata": {
    "ExecuteTime": {
     "end_time": "2021-06-27T17:05:45.450878Z",
     "start_time": "2021-06-27T17:05:45.448472Z"
    }
   },
   "outputs": [],
   "source": [
    "y = quora.target.values"
   ]
  },
  {
   "cell_type": "code",
   "execution_count": 73,
   "id": "broadband-accountability",
   "metadata": {
    "ExecuteTime": {
     "end_time": "2021-06-27T17:05:45.718260Z",
     "start_time": "2021-06-27T17:05:45.451478Z"
    }
   },
   "outputs": [],
   "source": [
    "X_train, X_valid, y_train, y_valid = train_test_split(X, y, test_size=0.05)"
   ]
  },
  {
   "cell_type": "markdown",
   "id": "impressive-routine",
   "metadata": {},
   "source": [
    "с конкатенацией эмбедингов: "
   ]
  },
  {
   "cell_type": "code",
   "execution_count": 136,
   "id": "spoken-beast",
   "metadata": {
    "ExecuteTime": {
     "end_time": "2021-06-29T04:31:40.609298Z",
     "start_time": "2021-06-29T04:31:40.546202Z"
    }
   },
   "outputs": [],
   "source": [
    "inputs = tf.keras.layers.Input(shape=(MAX_LEN,))\n",
    "\n",
    "# передаем матрицу в эмбединг слой\n",
    "# указываем параметр trainable=False, чтобы вектора не обучались\n",
    "# Пояснение: кажется, что обучение векторов отключать не стоит, так как модель должна взять готовые \n",
    "# эмбединги и подогнать их к нашей задаче. На практитке это однако не работает - эмбединги просто \n",
    "# обучатся заново\n",
    "embeddings = tf.keras.layers.Embedding(input_dim=len(word2id), output_dim=100)(inputs, )\n",
    "dense = tf.keras.layers.Dense(120, activation='relu')(concatenated_embeddings)\n",
    "outputs = tf.keras.layers.Dense(1, activation='sigmoid')(dense)\n",
    "\n",
    "model = tf.keras.Model(inputs=inputs, outputs=outputs)\n",
    "optimizer = tf.keras.optimizers.Adam(learning_rate=0.0001)\n",
    "model.compile(optimizer=optimizer,\n",
    "              loss='binary_crossentropy',\n",
    "              metrics=['accuracy'])"
   ]
  },
  {
   "cell_type": "markdown",
   "id": "mounted-scanner",
   "metadata": {},
   "source": [
    "(Выбор минимального количества эпох обусловлен добычей большего времени на эксперименты)"
   ]
  },
  {
   "cell_type": "code",
   "execution_count": 137,
   "id": "biological-commons",
   "metadata": {
    "ExecuteTime": {
     "end_time": "2021-06-29T04:34:52.088647Z",
     "start_time": "2021-06-29T04:31:41.872094Z"
    },
    "scrolled": true
   },
   "outputs": [
    {
     "name": "stdout",
     "output_type": "stream",
     "text": [
      "Epoch 1/3\n",
      "2424/2424 [==============================] - 63s 26ms/step - loss: 0.1801 - accuracy: 0.9397 - val_loss: 0.1228 - val_accuracy: 0.9512\n",
      "Epoch 2/3\n",
      "2424/2424 [==============================] - 64s 26ms/step - loss: 0.1149 - accuracy: 0.9540 - val_loss: 0.1172 - val_accuracy: 0.9533\n",
      "Epoch 3/3\n",
      "2424/2424 [==============================] - 63s 26ms/step - loss: 0.1079 - accuracy: 0.9561 - val_loss: 0.1168 - val_accuracy: 0.9542\n"
     ]
    },
    {
     "data": {
      "text/plain": [
       "<tensorflow.python.keras.callbacks.History at 0x660899550>"
      ]
     },
     "execution_count": 137,
     "metadata": {},
     "output_type": "execute_result"
    }
   ],
   "source": [
    "model.fit(X_train, y_train, \n",
    "          validation_data=(X_valid, y_valid),\n",
    "          batch_size=512,\n",
    "          epochs=3)"
   ]
  },
  {
   "cell_type": "code",
   "execution_count": 138,
   "id": "touched-productivity",
   "metadata": {
    "ExecuteTime": {
     "end_time": "2021-06-29T04:34:52.091205Z",
     "start_time": "2021-06-29T04:34:52.089641Z"
    }
   },
   "outputs": [
    {
     "name": "stdout",
     "output_type": "stream",
     "text": [
      "dict_keys(['loss', 'accuracy', 'val_loss', 'val_accuracy'])\n"
     ]
    }
   ],
   "source": [
    "print(model.history.history.keys())"
   ]
  },
  {
   "cell_type": "code",
   "execution_count": 139,
   "id": "flush-attachment",
   "metadata": {
    "ExecuteTime": {
     "end_time": "2021-06-29T04:34:52.185244Z",
     "start_time": "2021-06-29T04:34:52.092324Z"
    }
   },
   "outputs": [
    {
     "data": {
      "image/png": "[encoded data removed]",
      "text/plain": [
       "<Figure size 432x288 with 1 Axes>"
      ]
     },
     "metadata": {
      "needs_background": "light"
     },
     "output_type": "display_data"
    }
   ],
   "source": [
    "# summarize history for accuracy\n",
    "plt.plot(model.history.history['accuracy'])\n",
    "plt.plot(model.history.history['val_accuracy'])\n",
    "plt.title('model accuracy')\n",
    "plt.ylabel('accuracy')\n",
    "plt.xlabel('epoch')\n",
    "plt.legend(['train', 'val'], loc='upper left')\n",
    "plt.show()"
   ]
  },
  {
   "cell_type": "code",
   "execution_count": 140,
   "id": "partial-attitude",
   "metadata": {
    "ExecuteTime": {
     "end_time": "2021-06-29T04:34:54.103937Z",
     "start_time": "2021-06-29T04:34:52.186355Z"
    }
   },
   "outputs": [],
   "source": [
    "preds = model.predict(X_valid).reshape(-1)"
   ]
  },
  {
   "cell_type": "code",
   "execution_count": 141,
   "id": "portuguese-dispatch",
   "metadata": {
    "ExecuteTime": {
     "end_time": "2021-06-29T04:34:54.145448Z",
     "start_time": "2021-06-29T04:34:54.104702Z"
    }
   },
   "outputs": [
    {
     "name": "stdout",
     "output_type": "stream",
     "text": [
      "              precision    recall  f1-score   support\n",
      "\n",
      "           0       0.97      0.98      0.98     61201\n",
      "           1       0.69      0.50      0.58      4106\n",
      "\n",
      "    accuracy                           0.95     65307\n",
      "   macro avg       0.83      0.74      0.78     65307\n",
      "weighted avg       0.95      0.95      0.95     65307\n",
      "\n"
     ]
    }
   ],
   "source": [
    "# можно подбирать порог для отнесения к токсичному классу\n",
    "print(classification_report(y_valid, (preds > 0.5).astype(int)))"
   ]
  },
  {
   "cell_type": "markdown",
   "id": "honey-escape",
   "metadata": {},
   "source": [
    "с усреднением эмбедингов: "
   ]
  },
  {
   "cell_type": "code",
   "execution_count": 142,
   "id": "posted-climate",
   "metadata": {
    "ExecuteTime": {
     "end_time": "2021-06-29T04:34:54.168779Z",
     "start_time": "2021-06-29T04:34:54.146310Z"
    }
   },
   "outputs": [],
   "source": [
    "inputs = tf.keras.layers.Input(shape=(MAX_LEN,))\n",
    "\n",
    "# передаем матрицу в эмбединг слой\n",
    "# указываем параметр trainable=False, чтобы вектора не обучались\n",
    "# Пояснение: кажется, что обучение векторов отключать не стоит, так как модель должна взять готовые \n",
    "# эмбединги и подогнать их к нашей задаче. На практитке это однако не работает - эмбединги просто \n",
    "# обучатся заново\n",
    "embeddings = tf.keras.layers.Embedding(input_dim=len(word2id), output_dim=100)(inputs, )\n",
    "mean = tf.keras.layers.Lambda(lambda x: tf.keras.backend.mean(x, axis=1))(embeddings)\n",
    "dense = tf.keras.layers.Dense(64, activation='selu')(mean)\n",
    "outputs = tf.keras.layers.Dense(1, activation='sigmoid')(dense)\n",
    "\n",
    "model = tf.keras.Model(inputs=inputs, outputs=outputs)\n",
    "optimizer = tf.keras.optimizers.Adam(learning_rate=0.0001)\n",
    "model.compile(optimizer=optimizer,\n",
    "              loss='binary_crossentropy',\n",
    "              metrics=['accuracy'])"
   ]
  },
  {
   "cell_type": "code",
   "execution_count": 154,
   "id": "afraid-contest",
   "metadata": {
    "ExecuteTime": {
     "end_time": "2021-06-29T04:37:24.039775Z",
     "start_time": "2021-06-29T04:36:18.076131Z"
    }
   },
   "outputs": [
    {
     "name": "stdout",
     "output_type": "stream",
     "text": [
      "Epoch 1/3\n",
      "2424/2424 [==============================] - 21s 9ms/step - loss: 0.1172 - accuracy: 0.9539 - val_loss: 0.1191 - val_accuracy: 0.9529\n",
      "Epoch 2/3\n",
      "2424/2424 [==============================] - 21s 9ms/step - loss: 0.1125 - accuracy: 0.9552 - val_loss: 0.1182 - val_accuracy: 0.9536\n",
      "Epoch 3/3\n",
      "2424/2424 [==============================] - 23s 9ms/step - loss: 0.1101 - accuracy: 0.9558 - val_loss: 0.1163 - val_accuracy: 0.9540\n"
     ]
    },
    {
     "data": {
      "text/plain": [
       "<tensorflow.python.keras.callbacks.History at 0x7422b2610>"
      ]
     },
     "execution_count": 154,
     "metadata": {},
     "output_type": "execute_result"
    }
   ],
   "source": [
    "model.fit(X_train, y_train, \n",
    "          validation_data=(X_valid, y_valid),\n",
    "          batch_size=512,\n",
    "          epochs=3)"
   ]
  },
  {
   "cell_type": "code",
   "execution_count": 155,
   "id": "described-variance",
   "metadata": {
    "ExecuteTime": {
     "end_time": "2021-06-29T04:37:24.042311Z",
     "start_time": "2021-06-29T04:37:24.040793Z"
    },
    "scrolled": true
   },
   "outputs": [
    {
     "name": "stdout",
     "output_type": "stream",
     "text": [
      "dict_keys(['loss', 'accuracy', 'val_loss', 'val_accuracy'])\n"
     ]
    }
   ],
   "source": [
    "print(model.history.history.keys())"
   ]
  },
  {
   "cell_type": "code",
   "execution_count": 156,
   "id": "subject-chapel",
   "metadata": {
    "ExecuteTime": {
     "end_time": "2021-06-29T04:37:24.121860Z",
     "start_time": "2021-06-29T04:37:24.043437Z"
    }
   },
   "outputs": [
    {
     "data": {
      "image/png": "[encoded data removed]",
      "text/plain": [
       "<Figure size 432x288 with 1 Axes>"
      ]
     },
     "metadata": {
      "needs_background": "light"
     },
     "output_type": "display_data"
    }
   ],
   "source": [
    "# summarize history for accuracy\n",
    "plt.plot(model.history.history['accuracy'])\n",
    "plt.plot(model.history.history['val_accuracy'])\n",
    "plt.title('model accuracy')\n",
    "plt.ylabel('accuracy')\n",
    "plt.xlabel('epoch')\n",
    "plt.legend(['train', 'val'], loc='upper left')\n",
    "plt.show()"
   ]
  },
  {
   "cell_type": "code",
   "execution_count": 157,
   "id": "hollywood-occasions",
   "metadata": {
    "ExecuteTime": {
     "end_time": "2021-06-29T04:37:24.695443Z",
     "start_time": "2021-06-29T04:37:24.122845Z"
    }
   },
   "outputs": [],
   "source": [
    "preds = model.predict(X_valid).reshape(-1)"
   ]
  },
  {
   "cell_type": "code",
   "execution_count": 158,
   "id": "rough-ontario",
   "metadata": {
    "ExecuteTime": {
     "end_time": "2021-06-29T04:37:24.741426Z",
     "start_time": "2021-06-29T04:37:24.696238Z"
    }
   },
   "outputs": [
    {
     "name": "stdout",
     "output_type": "stream",
     "text": [
      "              precision    recall  f1-score   support\n",
      "\n",
      "           0       0.97      0.98      0.98     61201\n",
      "           1       0.67      0.52      0.59      4106\n",
      "\n",
      "    accuracy                           0.95     65307\n",
      "   macro avg       0.82      0.75      0.78     65307\n",
      "weighted avg       0.95      0.95      0.95     65307\n",
      "\n"
     ]
    }
   ],
   "source": [
    "# можно подбирать порог для отнесения к токсичному классу\n",
    "print(classification_report(y_valid, (preds > 0.5).astype(int)))"
   ]
  },
  {
   "cell_type": "markdown",
   "id": "alternative-summit",
   "metadata": {},
   "source": [
    "со сложением эмбедингов: "
   ]
  },
  {
   "cell_type": "code",
   "execution_count": 159,
   "id": "lucky-failing",
   "metadata": {
    "ExecuteTime": {
     "end_time": "2021-06-29T04:37:24.761647Z",
     "start_time": "2021-06-29T04:37:24.742187Z"
    }
   },
   "outputs": [],
   "source": [
    "inputs = tf.keras.layers.Input(shape=(MAX_LEN,))\n",
    "\n",
    "# передаем матрицу в эмбединг слой\n",
    "# указываем параметр trainable=False, чтобы вектора не обучались\n",
    "# Пояснение: кажется, что обучение векторов отключать не стоит, так как модель должна взять готовые \n",
    "# эмбединги и подогнать их к нашей задаче. На практитке это однако не работает - эмбединги просто \n",
    "# обучатся заново\n",
    "embeddings = tf.keras.layers.Embedding(input_dim=len(word2id), output_dim=100)(inputs, )\n",
    "mean = tf.keras.layers.Lambda(lambda x: tf.keras.backend.sum(x, axis=1))(embeddings)\n",
    "dense = tf.keras.layers.Dense(70, activation='tanh')(mean)\n",
    "outputs = tf.keras.layers.Dense(1, activation='sigmoid')(dense)\n",
    "\n",
    "model = tf.keras.Model(inputs=inputs, outputs=outputs)\n",
    "optimizer = tf.keras.optimizers.Adam(learning_rate=0.0001)\n",
    "model.compile(optimizer=optimizer,\n",
    "              loss='binary_crossentropy',\n",
    "              metrics=['accuracy'])"
   ]
  },
  {
   "cell_type": "code",
   "execution_count": 160,
   "id": "gothic-citizenship",
   "metadata": {
    "ExecuteTime": {
     "end_time": "2021-06-29T04:38:31.254607Z",
     "start_time": "2021-06-29T04:37:24.762482Z"
    }
   },
   "outputs": [
    {
     "name": "stdout",
     "output_type": "stream",
     "text": [
      "Epoch 1/3\n",
      "2424/2424 [==============================] - 22s 9ms/step - loss: 0.2248 - accuracy: 0.9121 - val_loss: 0.1276 - val_accuracy: 0.9500\n",
      "Epoch 2/3\n",
      "2424/2424 [==============================] - 22s 9ms/step - loss: 0.1195 - accuracy: 0.9529 - val_loss: 0.1193 - val_accuracy: 0.9520\n",
      "Epoch 3/3\n",
      "2424/2424 [==============================] - 22s 9ms/step - loss: 0.1132 - accuracy: 0.9546 - val_loss: 0.1174 - val_accuracy: 0.9530\n"
     ]
    },
    {
     "data": {
      "text/plain": [
       "<tensorflow.python.keras.callbacks.History at 0x74263df10>"
      ]
     },
     "execution_count": 160,
     "metadata": {},
     "output_type": "execute_result"
    }
   ],
   "source": [
    "model.fit(X_train, y_train, \n",
    "          validation_data=(X_valid, y_valid),\n",
    "          batch_size=512,\n",
    "          epochs=3)"
   ]
  },
  {
   "cell_type": "code",
   "execution_count": 161,
   "id": "worst-district",
   "metadata": {
    "ExecuteTime": {
     "end_time": "2021-06-29T04:38:31.258151Z",
     "start_time": "2021-06-29T04:38:31.256496Z"
    }
   },
   "outputs": [
    {
     "name": "stdout",
     "output_type": "stream",
     "text": [
      "dict_keys(['loss', 'accuracy', 'val_loss', 'val_accuracy'])\n"
     ]
    }
   ],
   "source": [
    "print(model.history.history.keys())"
   ]
  },
  {
   "cell_type": "code",
   "execution_count": 162,
   "id": "literary-webmaster",
   "metadata": {
    "ExecuteTime": {
     "end_time": "2021-06-29T04:38:31.335689Z",
     "start_time": "2021-06-29T04:38:31.259158Z"
    }
   },
   "outputs": [
    {
     "data": {
      "image/png": "[encoded data removed]",
      "text/plain": [
       "<Figure size 432x288 with 1 Axes>"
      ]
     },
     "metadata": {
      "needs_background": "light"
     },
     "output_type": "display_data"
    }
   ],
   "source": [
    "# summarize history for accuracy\n",
    "plt.plot(model.history.history['accuracy'])\n",
    "plt.plot(model.history.history['val_accuracy'])\n",
    "plt.title('model accuracy')\n",
    "plt.ylabel('accuracy')\n",
    "plt.xlabel('epoch')\n",
    "plt.legend(['train', 'val'], loc='upper left')\n",
    "plt.show()"
   ]
  },
  {
   "cell_type": "code",
   "execution_count": 163,
   "id": "confidential-viking",
   "metadata": {
    "ExecuteTime": {
     "end_time": "2021-06-29T04:38:31.932119Z",
     "start_time": "2021-06-29T04:38:31.336400Z"
    }
   },
   "outputs": [],
   "source": [
    "preds = model.predict(X_valid).reshape(-1)"
   ]
  },
  {
   "cell_type": "code",
   "execution_count": 164,
   "id": "hearing-capability",
   "metadata": {
    "ExecuteTime": {
     "end_time": "2021-06-29T04:38:31.981697Z",
     "start_time": "2021-06-29T04:38:31.932947Z"
    }
   },
   "outputs": [
    {
     "name": "stdout",
     "output_type": "stream",
     "text": [
      "              precision    recall  f1-score   support\n",
      "\n",
      "           0       0.97      0.99      0.98     61201\n",
      "           1       0.68      0.47      0.56      4106\n",
      "\n",
      "    accuracy                           0.95     65307\n",
      "   macro avg       0.82      0.73      0.77     65307\n",
      "weighted avg       0.95      0.95      0.95     65307\n",
      "\n"
     ]
    }
   ],
   "source": [
    "# можно подбирать порог для отнесения к токсичному классу\n",
    "print(classification_report(y_valid, (preds > 0.5).astype(int)))"
   ]
  },
  {
   "cell_type": "markdown",
   "id": "bridal-geology",
   "metadata": {},
   "source": [
    "2) В одной из задач используйте сразу две предобученные эмбединг модели (можно фастекст и ворд2век, а можно просто 2 фастекста с разными параметрами) в одной нейронке (имеется в виду предобученные до обучения нейронки, т.е вы можете сами обучить фастекст/ворд2век и не искать готовые модели в интернете). Попробуйте усреднять эмбединги и конкатенировать (общие эмбединги потом в один вектор собирайте любым способом - например, тем который оказался лучше в первой задаче). Подсказка: используйте functional api, сделайте два Embedding слоя и к их выходам примените слой Concatenate([emb1, emb2)) или Average([emb1, emb2))\n",
    "\n",
    "Бонусный балл можно получить за добавление к пайплайну subword токенизации (через библиотеку tokenizers например)\n",
    "\n",
    "Лучше делать задание на второй задаче, так как в Авито в любом случае разница будет в несколько десятых процентов.\n",
    "\n"
   ]
  },
  {
   "cell_type": "code",
   "execution_count": 302,
   "id": "incredible-archive",
   "metadata": {
    "ExecuteTime": {
     "end_time": "2021-06-29T16:31:19.727104Z",
     "start_time": "2021-06-29T16:31:19.717765Z"
    }
   },
   "outputs": [],
   "source": [
    "from tokenizers import CharBPETokenizer, Tokenizer"
   ]
  },
  {
   "cell_type": "code",
   "execution_count": 303,
   "id": "continuing-marketing",
   "metadata": {
    "ExecuteTime": {
     "end_time": "2021-06-29T16:31:31.546630Z",
     "start_time": "2021-06-29T16:31:20.248478Z"
    }
   },
   "outputs": [],
   "source": [
    "quora['question_text'].to_csv('corpus.txt', index=None)\n",
    "tok_sub = CharBPETokenizer()\n",
    "tok_sub.train('corpus.txt', vocab_size=2000, min_frequency=10,)"
   ]
  },
  {
   "cell_type": "code",
   "execution_count": 304,
   "id": "economic-shark",
   "metadata": {
    "ExecuteTime": {
     "end_time": "2021-06-29T16:31:31.552796Z",
     "start_time": "2021-06-29T16:31:31.547601Z"
    }
   },
   "outputs": [],
   "source": [
    "word2id = tok_sub.get_vocab()"
   ]
  },
  {
   "cell_type": "code",
   "execution_count": 305,
   "id": "breeding-puppy",
   "metadata": {
    "ExecuteTime": {
     "end_time": "2021-06-29T16:31:31.555218Z",
     "start_time": "2021-06-29T16:31:31.553914Z"
    }
   },
   "outputs": [],
   "source": [
    "data = quora['question_text']"
   ]
  },
  {
   "cell_type": "code",
   "execution_count": 306,
   "id": "efficient-sunday",
   "metadata": {
    "ExecuteTime": {
     "end_time": "2021-06-29T16:32:40.209168Z",
     "start_time": "2021-06-29T16:31:31.556267Z"
    }
   },
   "outputs": [],
   "source": [
    "X = []\n",
    "\n",
    "for text in data:\n",
    "    tokens = tok_sub.encode(text).tokens\n",
    "    ids = [word2id.get(token, 1) for token in tokens]\n",
    "    X.append(ids)"
   ]
  },
  {
   "cell_type": "code",
   "execution_count": 307,
   "id": "minus-opening",
   "metadata": {
    "ExecuteTime": {
     "end_time": "2021-06-29T16:32:40.641244Z",
     "start_time": "2021-06-29T16:32:40.210238Z"
    }
   },
   "outputs": [
    {
     "data": {
      "text/plain": [
       "858"
      ]
     },
     "execution_count": 307,
     "metadata": {},
     "output_type": "execute_result"
    }
   ],
   "source": [
    "MAX_LEN = max(len(x) for x in X)\n",
    "\n",
    "MAX_LEN"
   ]
  },
  {
   "cell_type": "code",
   "execution_count": 308,
   "id": "radical-gentleman",
   "metadata": {
    "ExecuteTime": {
     "end_time": "2021-06-29T16:32:46.765839Z",
     "start_time": "2021-06-29T16:32:40.642361Z"
    }
   },
   "outputs": [
    {
     "data": {
      "text/plain": [
       "(1306122, 858)"
      ]
     },
     "execution_count": 308,
     "metadata": {},
     "output_type": "execute_result"
    }
   ],
   "source": [
    "# паддинг\n",
    "X = tf.keras.preprocessing.sequence.pad_sequences(X, maxlen=MAX_LEN)\n",
    "\n",
    "X.shape"
   ]
  },
  {
   "cell_type": "code",
   "execution_count": 309,
   "id": "nasty-exhibition",
   "metadata": {
    "ExecuteTime": {
     "end_time": "2021-06-29T16:32:46.770212Z",
     "start_time": "2021-06-29T16:32:46.767077Z"
    }
   },
   "outputs": [],
   "source": [
    "random.seed(42)"
   ]
  },
  {
   "cell_type": "code",
   "execution_count": 310,
   "id": "hidden-liberal",
   "metadata": {
    "ExecuteTime": {
     "end_time": "2021-06-29T16:32:46.774946Z",
     "start_time": "2021-06-29T16:32:46.772662Z"
    }
   },
   "outputs": [],
   "source": [
    "y = quora.target.values"
   ]
  },
  {
   "cell_type": "code",
   "execution_count": 311,
   "id": "neural-timing",
   "metadata": {
    "ExecuteTime": {
     "end_time": "2021-06-29T16:32:52.568519Z",
     "start_time": "2021-06-29T16:32:46.776305Z"
    }
   },
   "outputs": [],
   "source": [
    "X_train, X_valid, y_train, y_valid = train_test_split(X, y, test_size=0.05)"
   ]
  },
  {
   "cell_type": "code",
   "execution_count": 312,
   "id": "compact-alert",
   "metadata": {
    "ExecuteTime": {
     "end_time": "2021-06-29T16:32:58.510639Z",
     "start_time": "2021-06-29T16:32:52.570835Z"
    }
   },
   "outputs": [],
   "source": [
    "texts = quora.question_text.apply(preprocess).tolist()"
   ]
  },
  {
   "cell_type": "code",
   "execution_count": 313,
   "id": "binding-alias",
   "metadata": {
    "ExecuteTime": {
     "end_time": "2021-06-29T16:35:16.023721Z",
     "start_time": "2021-06-29T16:32:58.511704Z"
    }
   },
   "outputs": [],
   "source": [
    "ft1 = gensim.models.FastText(texts, vector_size=100, window=3, min_count=1)\n",
    "\n",
    "weights1 = np.zeros((len(word2id), 100))\n",
    "\n",
    "for word, i in word2id.items():\n",
    "    # вектор паддинга оставим нулевым\n",
    "    if word == 'PAD':\n",
    "        continue\n",
    "\n",
    "    try:\n",
    "        weights1[i] = ft1.wv[word]\n",
    "    \n",
    "    \n",
    "    except KeyError:\n",
    "        # для слов, которых нет в модели тоже возьмем какой-то  рандомный вектор\n",
    "        weights1[i] = ft1.wv['опрагпллирао']"
   ]
  },
  {
   "cell_type": "code",
   "execution_count": 314,
   "id": "bored-minority",
   "metadata": {
    "ExecuteTime": {
     "end_time": "2021-06-29T16:35:16.027893Z",
     "start_time": "2021-06-29T16:35:16.025131Z"
    }
   },
   "outputs": [
    {
     "data": {
      "text/plain": [
       "(2000, 100)"
      ]
     },
     "execution_count": 314,
     "metadata": {},
     "output_type": "execute_result"
    }
   ],
   "source": [
    "weights1.shape"
   ]
  },
  {
   "cell_type": "code",
   "execution_count": 315,
   "id": "dutch-inside",
   "metadata": {
    "ExecuteTime": {
     "end_time": "2021-06-29T16:37:23.910841Z",
     "start_time": "2021-06-29T16:35:16.028793Z"
    }
   },
   "outputs": [],
   "source": [
    "ft2 = gensim.models.FastText(texts, vector_size=100, window=4, min_count=3)\n",
    "\n",
    "weights2 = np.zeros((len(word2id), 100))\n",
    "\n",
    "for word, i in word2id.items():\n",
    "    # вектор паддинга оставим нулевым\n",
    "    if word == 'PAD':\n",
    "        continue\n",
    "\n",
    "    try:\n",
    "        weights2[i] = ft2.wv[word]\n",
    "    \n",
    "    \n",
    "    except KeyError:\n",
    "        # для слов, которых нет в модели тоже возьмем какой-то  рандомный вектор\n",
    "        weights2[i] = ft2.wv['опрагпллирао']"
   ]
  },
  {
   "cell_type": "markdown",
   "id": "simple-unemployment",
   "metadata": {},
   "source": [
    "С конкатенированием"
   ]
  },
  {
   "cell_type": "code",
   "execution_count": 319,
   "id": "circular-turning",
   "metadata": {
    "ExecuteTime": {
     "end_time": "2021-06-29T17:09:38.323982Z",
     "start_time": "2021-06-29T17:09:38.229776Z"
    }
   },
   "outputs": [],
   "source": [
    "inputs = tf.keras.layers.Input(shape=(MAX_LEN,))\n",
    "\n",
    "# передаем матрицу в эмбединг слой\n",
    "# указываем параметр trainable=False, чтобы вектора не обучались\n",
    "# Пояснение: кажется, что обучение векторов отключать не стоит, так как модель должна взять готовые \n",
    "# эмбединги и подогнать их к нашей задаче. На практитке это однако не работает - эмбединги просто \n",
    "# обучатся заново\n",
    "ft1_embeddings = tf.keras.layers.Embedding(input_dim=len(word2id), output_dim=100, trainable=False,\n",
    "                                           weights=[weights1])(inputs, )\n",
    "ft2_embeddings = tf.keras.layers.Embedding(input_dim=len(word2id), output_dim=100, trainable=False,\n",
    "                                           weights=[weights2])(inputs, )\n",
    "concatenated_embeddings = tf.keras.layers.Concatenate(axis=1)([ft1_embeddings, ft2_embeddings])\n",
    "flat = tf.keras.layers.Flatten()(concatenated_embeddings)\n",
    "dense = tf.keras.layers.Dense(64, activation='relu')(flat)\n",
    "outputs = tf.keras.layers.Dense(1, activation='sigmoid')(dense)\n",
    "model = tf.keras.Model(inputs=inputs, outputs=outputs)\n",
    "optimizer = tf.keras.optimizers.Adam(learning_rate=0.001)\n",
    "model.compile(optimizer=optimizer,\n",
    "              loss='binary_crossentropy',\n",
    "              metrics=['accuracy'])"
   ]
  },
  {
   "cell_type": "code",
   "execution_count": 320,
   "id": "brutal-islam",
   "metadata": {
    "ExecuteTime": {
     "end_time": "2021-06-29T18:04:07.369280Z",
     "start_time": "2021-06-29T17:09:39.190999Z"
    }
   },
   "outputs": [
    {
     "name": "stdout",
     "output_type": "stream",
     "text": [
      "Epoch 1/5\n",
      "12409/12409 [==============================] - 604s 49ms/step - loss: 0.7444 - accuracy: 0.9199 - val_loss: 0.2089 - val_accuracy: 0.9390\n",
      "Epoch 2/5\n",
      "12409/12409 [==============================] - 619s 50ms/step - loss: 0.2132 - accuracy: 0.9384 - val_loss: 0.2151 - val_accuracy: 0.9390\n",
      "Epoch 3/5\n",
      "12409/12409 [==============================] - 691s 56ms/step - loss: 0.2109 - accuracy: 0.9377 - val_loss: 0.2022 - val_accuracy: 0.9390\n",
      "Epoch 4/5\n",
      "12409/12409 [==============================] - 680s 55ms/step - loss: 0.2078 - accuracy: 0.9379 - val_loss: 0.2023 - val_accuracy: 0.9390\n",
      "Epoch 5/5\n",
      "12409/12409 [==============================] - 670s 54ms/step - loss: 0.2059 - accuracy: 0.9381 - val_loss: 0.2078 - val_accuracy: 0.9390\n"
     ]
    },
    {
     "data": {
      "text/plain": [
       "<tensorflow.python.keras.callbacks.History at 0x772afbd00>"
      ]
     },
     "execution_count": 320,
     "metadata": {},
     "output_type": "execute_result"
    }
   ],
   "source": [
    "model.fit(X_train, y_train, \n",
    "          validation_data=(X_valid, y_valid),\n",
    "          batch_size=100,\n",
    "          epochs=5)"
   ]
  },
  {
   "cell_type": "code",
   "execution_count": 321,
   "id": "prospective-fraction",
   "metadata": {
    "ExecuteTime": {
     "end_time": "2021-06-29T18:04:29.087117Z",
     "start_time": "2021-06-29T18:04:29.076769Z"
    }
   },
   "outputs": [
    {
     "name": "stdout",
     "output_type": "stream",
     "text": [
      "dict_keys(['loss', 'accuracy', 'val_loss', 'val_accuracy'])\n"
     ]
    }
   ],
   "source": [
    "print(model.history.history.keys())"
   ]
  },
  {
   "cell_type": "code",
   "execution_count": 322,
   "id": "persistent-advice",
   "metadata": {
    "ExecuteTime": {
     "end_time": "2021-06-29T18:04:30.304645Z",
     "start_time": "2021-06-29T18:04:30.157217Z"
    }
   },
   "outputs": [
    {
     "data": {
      "image/png": "[encoded data removed]",
      "text/plain": [
       "<Figure size 432x288 with 1 Axes>"
      ]
     },
     "metadata": {
      "needs_background": "light"
     },
     "output_type": "display_data"
    }
   ],
   "source": [
    "# summarize history for accuracy\n",
    "plt.plot(model.history.history['accuracy'])\n",
    "plt.plot(model.history.history['val_accuracy'])\n",
    "plt.title('model accuracy')\n",
    "plt.ylabel('accuracy')\n",
    "plt.xlabel('epoch')\n",
    "plt.legend(['train', 'val'], loc='upper left')\n",
    "plt.show()"
   ]
  },
  {
   "cell_type": "code",
   "execution_count": 323,
   "id": "altered-championship",
   "metadata": {
    "ExecuteTime": {
     "end_time": "2021-06-29T18:04:57.081431Z",
     "start_time": "2021-06-29T18:04:31.717995Z"
    }
   },
   "outputs": [],
   "source": [
    "preds = model.predict(X_valid)"
   ]
  },
  {
   "cell_type": "code",
   "execution_count": 324,
   "id": "compound-garden",
   "metadata": {
    "ExecuteTime": {
     "end_time": "2021-06-29T18:05:36.782282Z",
     "start_time": "2021-06-29T18:05:36.666121Z"
    }
   },
   "outputs": [
    {
     "name": "stdout",
     "output_type": "stream",
     "text": [
      "              precision    recall  f1-score   support\n",
      "\n",
      "           0       0.94      1.00      0.97     61322\n",
      "           1       0.00      0.00      0.00      3985\n",
      "\n",
      "    accuracy                           0.94     65307\n",
      "   macro avg       0.47      0.50      0.48     65307\n",
      "weighted avg       0.88      0.94      0.91     65307\n",
      "\n"
     ]
    },
    {
     "name": "stderr",
     "output_type": "stream",
     "text": [
      "/opt/homebrew/Caskroom/miniforge/base/envs/ml/lib/python3.8/site-packages/sklearn/metrics/_classification.py:1245: UndefinedMetricWarning: Precision and F-score are ill-defined and being set to 0.0 in labels with no predicted samples. Use `zero_division` parameter to control this behavior.\n",
      "  _warn_prf(average, modifier, msg_start, len(result))\n",
      "/opt/homebrew/Caskroom/miniforge/base/envs/ml/lib/python3.8/site-packages/sklearn/metrics/_classification.py:1245: UndefinedMetricWarning: Precision and F-score are ill-defined and being set to 0.0 in labels with no predicted samples. Use `zero_division` parameter to control this behavior.\n",
      "  _warn_prf(average, modifier, msg_start, len(result))\n",
      "/opt/homebrew/Caskroom/miniforge/base/envs/ml/lib/python3.8/site-packages/sklearn/metrics/_classification.py:1245: UndefinedMetricWarning: Precision and F-score are ill-defined and being set to 0.0 in labels with no predicted samples. Use `zero_division` parameter to control this behavior.\n",
      "  _warn_prf(average, modifier, msg_start, len(result))\n"
     ]
    }
   ],
   "source": [
    "# можно подбирать порог для отнесения к токсичному классу\n",
    "print(classification_report(y_valid, (preds > 0.5).astype(float)))"
   ]
  },
  {
   "cell_type": "markdown",
   "id": "respected-valve",
   "metadata": {},
   "source": [
    "С усреднением"
   ]
  },
  {
   "cell_type": "code",
   "execution_count": 335,
   "id": "obvious-painting",
   "metadata": {
    "ExecuteTime": {
     "end_time": "2021-06-29T20:54:15.599350Z",
     "start_time": "2021-06-29T20:54:15.468407Z"
    }
   },
   "outputs": [],
   "source": [
    "inputs = tf.keras.layers.Input(shape=(MAX_LEN,))\n",
    "\n",
    "# передаем матрицу в эмбединг слой\n",
    "# указываем параметр trainable=False, чтобы вектора не обучались\n",
    "# Пояснение: кажется, что обучение векторов отключать не стоит, так как модель должна взять готовые \n",
    "# эмбединги и подогнать их к нашей задаче. На практитке это однако не работает - эмбединги просто \n",
    "# обучатся заново\n",
    "ft1_embeddings = tf.keras.layers.Embedding(input_dim=len(word2id), output_dim=100, trainable=False,\n",
    "                                          weights=[weights1])(inputs, )\n",
    "ft2_embeddings = tf.keras.layers.Embedding(input_dim=len(word2id), output_dim=100, trainable=False,\n",
    "                                          weights=[weights2])(inputs, )\n",
    "embeddings_average = tf.keras.layers.Average()([ft1_embeddings, ft2_embeddings])\n",
    "flat = tf.keras.layers.Flatten()(embeddings_average)\n",
    "dense = tf.keras.layers.Dense(64, activation='selu')(flat)\n",
    "outputs = tf.keras.layers.Dense(1, activation='sigmoid')(dense)\n",
    "model = tf.keras.Model(inputs=inputs, outputs=outputs)\n",
    "optimizer = tf.keras.optimizers.Adam(learning_rate=0.001)\n",
    "model.compile(optimizer=optimizer,\n",
    "              loss='binary_crossentropy',\n",
    "              metrics=['accuracy'])"
   ]
  },
  {
   "cell_type": "code",
   "execution_count": 336,
   "id": "capable-danger",
   "metadata": {
    "ExecuteTime": {
     "end_time": "2021-06-29T21:08:39.526216Z",
     "start_time": "2021-06-29T20:54:16.273045Z"
    }
   },
   "outputs": [
    {
     "name": "stdout",
     "output_type": "stream",
     "text": [
      "Epoch 1/2\n",
      "12409/12409 [==============================] - 432s 35ms/step - loss: 0.5274 - accuracy: 0.9356 - val_loss: 0.2110 - val_accuracy: 0.9390\n",
      "Epoch 2/2\n",
      "12409/12409 [==============================] - 428s 35ms/step - loss: 0.2137 - accuracy: 0.9379 - val_loss: 0.2067 - val_accuracy: 0.9390\n"
     ]
    },
    {
     "data": {
      "text/plain": [
       "<tensorflow.python.keras.callbacks.History at 0x770a11f40>"
      ]
     },
     "execution_count": 336,
     "metadata": {},
     "output_type": "execute_result"
    }
   ],
   "source": [
    "model.fit(X_train, y_train, \n",
    "          validation_data=(X_valid, y_valid),\n",
    "          batch_size=100,\n",
    "          epochs=2)"
   ]
  },
  {
   "cell_type": "code",
   "execution_count": 337,
   "id": "sufficient-vertex",
   "metadata": {
    "ExecuteTime": {
     "end_time": "2021-06-29T21:09:16.613920Z",
     "start_time": "2021-06-29T21:09:16.609214Z"
    }
   },
   "outputs": [
    {
     "name": "stdout",
     "output_type": "stream",
     "text": [
      "dict_keys(['loss', 'accuracy', 'val_loss', 'val_accuracy'])\n"
     ]
    }
   ],
   "source": [
    "print(model.history.history.keys())"
   ]
  },
  {
   "cell_type": "code",
   "execution_count": 338,
   "id": "waiting-cement",
   "metadata": {
    "ExecuteTime": {
     "end_time": "2021-06-29T21:09:17.335632Z",
     "start_time": "2021-06-29T21:09:17.197899Z"
    }
   },
   "outputs": [
    {
     "data": {
      "image/png": "[encoded data removed]",
      "text/plain": [
       "<Figure size 432x288 with 1 Axes>"
      ]
     },
     "metadata": {
      "needs_background": "light"
     },
     "output_type": "display_data"
    }
   ],
   "source": [
    "# summarize history for accuracy\n",
    "plt.plot(model.history.history['accuracy'])\n",
    "plt.plot(model.history.history['val_accuracy'])\n",
    "plt.title('model accuracy')\n",
    "plt.ylabel('accuracy')\n",
    "plt.xlabel('epoch')\n",
    "plt.legend(['train', 'val'], loc='upper left')\n",
    "plt.show()"
   ]
  },
  {
   "cell_type": "code",
   "execution_count": 340,
   "id": "intermediate-harris",
   "metadata": {
    "ExecuteTime": {
     "end_time": "2021-06-29T21:09:41.345371Z",
     "start_time": "2021-06-29T21:09:25.592249Z"
    }
   },
   "outputs": [],
   "source": [
    "preds = model.predict(X_valid)"
   ]
  },
  {
   "cell_type": "code",
   "execution_count": 341,
   "id": "atlantic-space",
   "metadata": {
    "ExecuteTime": {
     "end_time": "2021-06-29T21:09:55.984389Z",
     "start_time": "2021-06-29T21:09:55.902375Z"
    },
    "scrolled": true
   },
   "outputs": [
    {
     "name": "stdout",
     "output_type": "stream",
     "text": [
      "              precision    recall  f1-score   support\n",
      "\n",
      "           0       0.94      1.00      0.97     61322\n",
      "           1       0.00      0.00      0.00      3985\n",
      "\n",
      "    accuracy                           0.94     65307\n",
      "   macro avg       0.47      0.50      0.48     65307\n",
      "weighted avg       0.88      0.94      0.91     65307\n",
      "\n"
     ]
    },
    {
     "name": "stderr",
     "output_type": "stream",
     "text": [
      "/opt/homebrew/Caskroom/miniforge/base/envs/ml/lib/python3.8/site-packages/sklearn/metrics/_classification.py:1245: UndefinedMetricWarning: Precision and F-score are ill-defined and being set to 0.0 in labels with no predicted samples. Use `zero_division` parameter to control this behavior.\n",
      "  _warn_prf(average, modifier, msg_start, len(result))\n",
      "/opt/homebrew/Caskroom/miniforge/base/envs/ml/lib/python3.8/site-packages/sklearn/metrics/_classification.py:1245: UndefinedMetricWarning: Precision and F-score are ill-defined and being set to 0.0 in labels with no predicted samples. Use `zero_division` parameter to control this behavior.\n",
      "  _warn_prf(average, modifier, msg_start, len(result))\n",
      "/opt/homebrew/Caskroom/miniforge/base/envs/ml/lib/python3.8/site-packages/sklearn/metrics/_classification.py:1245: UndefinedMetricWarning: Precision and F-score are ill-defined and being set to 0.0 in labels with no predicted samples. Use `zero_division` parameter to control this behavior.\n",
      "  _warn_prf(average, modifier, msg_start, len(result))\n"
     ]
    }
   ],
   "source": [
    "# можно подбирать порог для отнесения к токсичному классу\n",
    "print(classification_report(y_valid, (preds > 0.5).astype(int)))"
   ]
  },
  {
   "cell_type": "markdown",
   "id": "daily-discharge",
   "metadata": {},
   "source": [
    "Не очень получилось, но я не знаю, почему, пробовала по-разному :("
   ]
  }
 ],
 "metadata": {
  "kernelspec": {
   "display_name": "Python 3",
   "language": "python",
   "name": "python3"
  },
  "language_info": {
   "codemirror_mode": {
    "name": "ipython",
    "version": 3
   },
   "file_extension": ".py",
   "mimetype": "text/x-python",
   "name": "python",
   "nbconvert_exporter": "python",
   "pygments_lexer": "ipython3",
   "version": "3.8.8"
  }
 },
 "nbformat": 4,
 "nbformat_minor": 5
}
